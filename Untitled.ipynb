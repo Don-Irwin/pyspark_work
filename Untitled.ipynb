{
 "cells": [
  {
   "cell_type": "code",
   "execution_count": 2,
   "id": "62292812-f394-447c-beaf-8b7d71d15a31",
   "metadata": {},
   "outputs": [],
   "source": [
    "import pandas as pd\n",
    "from external.db_and_excel_utilities.utility import Utility as mutil\n",
    "from external.db_and_excel_utilities.db_base import db_base\n",
    "import os\n"
   ]
  },
  {
   "cell_type": "code",
   "execution_count": 3,
   "id": "b9b405a0-a341-4fc9-bd1e-65f0e48a8cf5",
   "metadata": {},
   "outputs": [],
   "source": [
    "u = mutil()"
   ]
  },
  {
   "cell_type": "code",
   "execution_count": 4,
   "id": "72c5c7c5-2d32-4683-b8b4-83cb17b15407",
   "metadata": {},
   "outputs": [
    {
     "name": "stderr",
     "output_type": "stream",
     "text": [
      "                                                                                \r"
     ]
    },
    {
     "name": "stdout",
     "output_type": "stream",
     "text": [
      "Error: /workspace/out/part_0.txt : Not a directory\n"
     ]
    },
    {
     "name": "stderr",
     "output_type": "stream",
     "text": [
      "                                                                                \r"
     ]
    },
    {
     "name": "stdout",
     "output_type": "stream",
     "text": [
      "Error: /workspace/out/part_1.txt : Not a directory\n"
     ]
    },
    {
     "name": "stderr",
     "output_type": "stream",
     "text": [
      "                                                                                \r"
     ]
    },
    {
     "name": "stdout",
     "output_type": "stream",
     "text": [
      "Error: /workspace/out/part_2.txt : Not a directory\n"
     ]
    },
    {
     "name": "stderr",
     "output_type": "stream",
     "text": [
      "                                                                                \r"
     ]
    },
    {
     "name": "stdout",
     "output_type": "stream",
     "text": [
      "Error: /workspace/out/part_3.txt : Not a directory\n",
      "Time elapsed: 1 minutes and 41 seconds\n"
     ]
    }
   ],
   "source": [
    "import os\n",
    "import time\n",
    "from pyspark.sql import SparkSession\n",
    "\n",
    "def split_file_and_save_parts():\n",
    "    # Initialize Spark session\n",
    "    spark = SparkSession.builder.appName(\"SplitFile\").getOrCreate()\n",
    "\n",
    "    # Start the timer\n",
    "    start_time = time.time()\n",
    "\n",
    "    # Read the file into an RDD\n",
    "    file_path = os.path.join(u.get_this_dir(), \"out\", \"sample_data_to_transform.csv\")\n",
    "    file_rdd = spark.sparkContext.textFile(file_path)\n",
    "\n",
    "    # Calculate the number of lines per part\n",
    "    total_lines = file_rdd.count()\n",
    "    lines_per_part = total_lines // 4\n",
    "\n",
    "    # Function to save each part\n",
    "    def save_part(index):\n",
    "        part_rdd = file_rdd.zipWithIndex().filter(lambda x: index*lines_per_part <= x[1] < (index+1)*lines_per_part if index < 3 else x[1] >= index*lines_per_part).keys()\n",
    "        part_data = part_rdd.collect()  # Collects data to the driver node\n",
    "\n",
    "        part_file_path = os.path.join(u.get_this_dir(), \"out\", f\"part_{index}.txt\")\n",
    "        u.nukepath(part_file_path)\n",
    "        u.nukefile(part_file_path)        \n",
    "        with open(part_file_path, 'w') as file:\n",
    "            for line in part_data:\n",
    "                file.write(line + '\\n')\n",
    "\n",
    "    # Save each part\n",
    "    for i in range(4):\n",
    "        save_part(i)\n",
    "\n",
    "    # Stop the Spark session\n",
    "    spark.stop()\n",
    "\n",
    "    # Stop the timer and calculate elapsed time\n",
    "    end_time = time.time()\n",
    "    elapsed_time = end_time - start_time\n",
    "\n",
    "    # Convert elapsed time to minutes and seconds\n",
    "    minutes = int(elapsed_time // 60)\n",
    "    seconds = int(elapsed_time % 60)\n",
    "    \n",
    "    print(f\"Time elapsed: {minutes} minutes and {seconds} seconds\")\n",
    "\n",
    "# Call the function\n",
    "split_file_and_save_parts()\n"
   ]
  },
  {
   "cell_type": "code",
   "execution_count": null,
   "id": "fbe3fbe7-ab9c-43fe-a5ff-08bc2bfb33b6",
   "metadata": {},
   "outputs": [],
   "source": [
    "!tree"
   ]
  }
 ],
 "metadata": {
  "kernelspec": {
   "display_name": "Python 3 (ipykernel)",
   "language": "python",
   "name": "python3"
  },
  "language_info": {
   "codemirror_mode": {
    "name": "ipython",
    "version": 3
   },
   "file_extension": ".py",
   "mimetype": "text/x-python",
   "name": "python",
   "nbconvert_exporter": "python",
   "pygments_lexer": "ipython3",
   "version": "3.9.2"
  }
 },
 "nbformat": 4,
 "nbformat_minor": 5
}
