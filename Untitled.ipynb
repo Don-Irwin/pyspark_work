{
 "cells": [
  {
   "cell_type": "code",
   "execution_count": 1,
   "id": "62292812-f394-447c-beaf-8b7d71d15a31",
   "metadata": {},
   "outputs": [
    {
     "ename": "ImportError",
     "evalue": "libodbc.so.2: cannot open shared object file: No such file or directory",
     "output_type": "error",
     "traceback": [
      "\u001b[0;31m---------------------------------------------------------------------------\u001b[0m",
      "\u001b[0;31mImportError\u001b[0m                               Traceback (most recent call last)",
      "Cell \u001b[0;32mIn[1], line 3\u001b[0m\n\u001b[1;32m      1\u001b[0m \u001b[38;5;28;01mimport\u001b[39;00m \u001b[38;5;21;01mpandas\u001b[39;00m \u001b[38;5;28;01mas\u001b[39;00m \u001b[38;5;21;01mpd\u001b[39;00m\n\u001b[1;32m      2\u001b[0m \u001b[38;5;28;01mfrom\u001b[39;00m \u001b[38;5;21;01mexternal\u001b[39;00m\u001b[38;5;21;01m.\u001b[39;00m\u001b[38;5;21;01mdb_and_excel_utilities\u001b[39;00m \u001b[38;5;28;01mimport\u001b[39;00m utility \u001b[38;5;28;01mas\u001b[39;00m mutil\n\u001b[0;32m----> 3\u001b[0m \u001b[38;5;28;01mfrom\u001b[39;00m \u001b[38;5;21;01mexternal\u001b[39;00m\u001b[38;5;21;01m.\u001b[39;00m\u001b[38;5;21;01mdb_and_excel_utilities\u001b[39;00m \u001b[38;5;28;01mimport\u001b[39;00m db_base\n",
      "File \u001b[0;32m/workspace/external/db_and_excel_utilities/db_base.py:26\u001b[0m\n\u001b[1;32m     24\u001b[0m \u001b[38;5;28;01mfrom\u001b[39;00m \u001b[38;5;21;01mpprint\u001b[39;00m \u001b[38;5;28;01mimport\u001b[39;00m pprint\n\u001b[1;32m     25\u001b[0m \u001b[38;5;28;01mimport\u001b[39;00m \u001b[38;5;21;01mtime\u001b[39;00m\n\u001b[0;32m---> 26\u001b[0m \u001b[38;5;28;01mimport\u001b[39;00m \u001b[38;5;21;01mpyodbc\u001b[39;00m\n\u001b[1;32m     27\u001b[0m pyodbc\u001b[38;5;241m.\u001b[39m pooling\u001b[38;5;241m=\u001b[39m\u001b[38;5;28;01mFalse\u001b[39;00m\n\u001b[1;32m     28\u001b[0m \u001b[38;5;28;01mfrom\u001b[39;00m \u001b[38;5;21;01msqlalchemy\u001b[39;00m \u001b[38;5;28;01mimport\u001b[39;00m create_engine\n",
      "\u001b[0;31mImportError\u001b[0m: libodbc.so.2: cannot open shared object file: No such file or directory"
     ]
    }
   ],
   "source": [
    "import pandas as pd\n",
    "from external.db_and_excel_utilities import utility as mutil\n",
    "from external.db_and_excel_utilities import db_base"
   ]
  },
  {
   "cell_type": "code",
   "execution_count": null,
   "id": "b9b405a0-a341-4fc9-bd1e-65f0e48a8cf5",
   "metadata": {},
   "outputs": [],
   "source": [
    "util = mutil()"
   ]
  },
  {
   "cell_type": "code",
   "execution_count": 4,
   "id": "72c5c7c5-2d32-4683-b8b4-83cb17b15407",
   "metadata": {},
   "outputs": [
    {
     "name": "stdout",
     "output_type": "stream",
     "text": [
      "\u001b[01;34m.\u001b[00m\n",
      "├── \u001b[01;32mCsvGeneratorDockerfile\u001b[00m\n",
      "├── \u001b[01;32mDockerpyspark\u001b[00m\n",
      "├── \u001b[01;32mREADME.md\u001b[00m\n",
      "├── \u001b[01;32mUntitled.ipynb\u001b[00m\n",
      "├── \u001b[01;34martifacts\u001b[00m\n",
      "│   ├── \u001b[01;34mimages\u001b[00m\n",
      "│   │   ├── \u001b[01;32mbash.png\u001b[00m\n",
      "│   │   ├── \u001b[01;32mdependencies.png\u001b[00m\n",
      "│   │   ├── \u001b[01;32mdocker.png\u001b[00m\n",
      "│   │   ├── \u001b[01;32mpython.png\u001b[00m\n",
      "│   │   ├── \u001b[01;32mpython_generation_process_recap.png\u001b[00m\n",
      "│   │   ├── \u001b[01;32mtime_comparison_sequence.png\u001b[00m\n",
      "│   │   ├── \u001b[01;32mtime_results.png\u001b[00m\n",
      "│   │   └── \u001b[01;32mununtu.png\u001b[00m\n",
      "│   └── \u001b[01;32mpython.png\u001b[00m\n",
      "├── \u001b[01;32mcsvgenerator.sh\u001b[00m\n",
      "├── \u001b[01;34mdot_net_csvgen\u001b[00m\n",
      "│   ├── \u001b[01;32mCsvGenerator.csproj\u001b[00m\n",
      "│   ├── \u001b[01;32mCsvGeneratorDockerfile\u001b[00m\n",
      "│   └── \u001b[01;32mProgram.cs\u001b[00m\n",
      "├── \u001b[01;34mexternal\u001b[00m\n",
      "│   └── \u001b[01;34mdb_and_excel_utilities\u001b[00m\n",
      "│       ├── README.md\n",
      "│       ├── custom_excel_output.py\n",
      "│       ├── \u001b[01;32mdb_base.py\u001b[00m\n",
      "│       ├── \u001b[01;32mdb_ins_fake_data.py\u001b[00m\n",
      "│       ├── excel_output.py\n",
      "│       └── \u001b[01;32mutility.py\u001b[00m\n",
      "├── \u001b[01;32mgen_random_data.py\u001b[00m\n",
      "├── \u001b[01;32mget_utils.sh\u001b[00m\n",
      "├── \u001b[01;34mout\u001b[00m\n",
      "│   └── \u001b[01;32msample_data_to_transform.csv\u001b[00m\n",
      "├── \u001b[01;32mpyspark_requirements.txt\u001b[00m\n",
      "├── \u001b[01;32mpysparkdocker_jn.sh\u001b[00m\n",
      "├── \u001b[01;32msample_data_to_transform.csv\u001b[00m\n",
      "└── \u001b[01;32mtime_comparisons.sh\u001b[00m\n",
      "\n",
      "6 directories, 30 files\n"
     ]
    }
   ],
   "source": [
    "!tree"
   ]
  },
  {
   "cell_type": "code",
   "execution_count": null,
   "id": "fbe3fbe7-ab9c-43fe-a5ff-08bc2bfb33b6",
   "metadata": {},
   "outputs": [],
   "source": []
  }
 ],
 "metadata": {
  "kernelspec": {
   "display_name": "Python 3 (ipykernel)",
   "language": "python",
   "name": "python3"
  },
  "language_info": {
   "codemirror_mode": {
    "name": "ipython",
    "version": 3
   },
   "file_extension": ".py",
   "mimetype": "text/x-python",
   "name": "python",
   "nbconvert_exporter": "python",
   "pygments_lexer": "ipython3",
   "version": "3.9.2"
  }
 },
 "nbformat": 4,
 "nbformat_minor": 5
}
